{
 "cells": [
  {
   "cell_type": "code",
   "execution_count": 1,
   "id": "430e473b",
   "metadata": {},
   "outputs": [],
   "source": [
    "import pandas as pd \n",
    "import numpy as np \n",
    "import matplotlib.pyplot as plt "
   ]
  },
  {
   "cell_type": "code",
   "execution_count": 2,
   "id": "f4f6b324",
   "metadata": {},
   "outputs": [],
   "source": [
    "from sklearn.datasets import load_diabetes \n",
    "data=load_diabetes()"
   ]
  },
  {
   "cell_type": "code",
   "execution_count": 3,
   "id": "e1bed362",
   "metadata": {
    "scrolled": true
   },
   "outputs": [
    {
     "data": {
      "text/plain": [
       "'.. _diabetes_dataset:\\n\\nDiabetes dataset\\n----------------\\n\\nTen baseline variables, age, sex, body mass index, average blood\\npressure, and six blood serum measurements were obtained for each of n =\\n442 diabetes patients, as well as the response of interest, a\\nquantitative measure of disease progression one year after baseline.\\n\\n**Data Set Characteristics:**\\n\\n  :Number of Instances: 442\\n\\n  :Number of Attributes: First 10 columns are numeric predictive values\\n\\n  :Target: Column 11 is a quantitative measure of disease progression one year after baseline\\n\\n  :Attribute Information:\\n      - age     age in years\\n      - sex\\n      - bmi     body mass index\\n      - bp      average blood pressure\\n      - s1      tc, total serum cholesterol\\n      - s2      ldl, low-density lipoproteins\\n      - s3      hdl, high-density lipoproteins\\n      - s4      tch, total cholesterol / HDL\\n      - s5      ltg, possibly log of serum triglycerides level\\n      - s6      glu, blood sugar level\\n\\nNote: Each of these 10 feature variables have been mean centered and scaled by the standard deviation times `n_samples` (i.e. the sum of squares of each column totals 1).\\n\\nSource URL:\\nhttps://www4.stat.ncsu.edu/~boos/var.select/diabetes.html\\n\\nFor more information see:\\nBradley Efron, Trevor Hastie, Iain Johnstone and Robert Tibshirani (2004) \"Least Angle Regression,\" Annals of Statistics (with discussion), 407-499.\\n(https://web.stanford.edu/~hastie/Papers/LARS/LeastAngle_2002.pdf)'"
      ]
     },
     "execution_count": 3,
     "metadata": {},
     "output_type": "execute_result"
    }
   ],
   "source": [
    "data.DESCR"
   ]
  },
  {
   "cell_type": "code",
   "execution_count": 4,
   "id": "b8a8a03f",
   "metadata": {},
   "outputs": [],
   "source": [
    "x=data.data\n",
    "y=data.target"
   ]
  },
  {
   "cell_type": "code",
   "execution_count": 5,
   "id": "814990a1",
   "metadata": {},
   "outputs": [],
   "source": [
    "from sklearn.model_selection import train_test_split\n",
    "x_train,x_test,y_train,y_test=train_test_split(x,y,test_size=0.2,random_state=45)"
   ]
  },
  {
   "cell_type": "code",
   "execution_count": 6,
   "id": "39e79bb6",
   "metadata": {},
   "outputs": [],
   "source": [
    "from sklearn.linear_model import LinearRegression\n",
    "lr =LinearRegression()"
   ]
  },
  {
   "cell_type": "code",
   "execution_count": 8,
   "id": "6cae8281",
   "metadata": {},
   "outputs": [
    {
     "data": {
      "text/plain": [
       "LinearRegression()"
      ]
     },
     "execution_count": 8,
     "metadata": {},
     "output_type": "execute_result"
    }
   ],
   "source": [
    "lr.fit(x_train,y_train)"
   ]
  },
  {
   "cell_type": "code",
   "execution_count": 9,
   "id": "3dc8337c",
   "metadata": {},
   "outputs": [
    {
     "data": {
      "text/plain": [
       "array([  23.45388514, -247.43107084,  492.10188174,  329.36498638,\n",
       "       -970.79784704,  573.54460121,  182.41386124,  255.9162021 ,\n",
       "        794.21654496,   89.32074078])"
      ]
     },
     "execution_count": 9,
     "metadata": {},
     "output_type": "execute_result"
    }
   ],
   "source": [
    "lr.coef_"
   ]
  },
  {
   "cell_type": "code",
   "execution_count": 11,
   "id": "608cc014",
   "metadata": {},
   "outputs": [
    {
     "data": {
      "text/plain": [
       "152.13619339070766"
      ]
     },
     "execution_count": 11,
     "metadata": {},
     "output_type": "execute_result"
    }
   ],
   "source": [
    "lr.intercept_"
   ]
  },
  {
   "cell_type": "code",
   "execution_count": 12,
   "id": "651b6e65",
   "metadata": {},
   "outputs": [],
   "source": [
    "y_pred=lr.predict(x_test)"
   ]
  },
  {
   "cell_type": "code",
   "execution_count": 13,
   "id": "fae79335",
   "metadata": {},
   "outputs": [
    {
     "data": {
      "text/plain": [
       "array([226.51666145, 157.46174876,  89.85952394, 207.92164744,\n",
       "       175.26801312, 146.48388955, 131.11418872,  97.37619407,\n",
       "       102.94176683, 181.69421036, 237.97133408, 134.74602577,\n",
       "       189.44001676,  59.93090877, 179.98603311, 117.78640765,\n",
       "       120.30704482, 126.66365457, 165.19760646, 147.7794185 ,\n",
       "       145.43611319, 124.41603451,  51.95784538, 227.75026698,\n",
       "       218.09974354, 129.82788151, 160.13813249, 201.1733737 ,\n",
       "       184.84256427,  68.91311254, 237.00908624,  58.17038384,\n",
       "       154.40273359, 119.16002486, 234.03288057, 172.80124283,\n",
       "       139.94748943, 169.99141456, 214.59266744, 220.47790767,\n",
       "       128.98001836, 186.20573984, 162.87312596, 179.77626906,\n",
       "       107.76819766, 249.53008184, 140.92296676,  32.74662537,\n",
       "       177.96075481, 145.76735049, 291.96466984, 125.71393834,\n",
       "       107.27437771, 156.10370698, 115.93097942, 160.35431782,\n",
       "       229.47682139, 173.38591961, 159.88140556, 123.04674096,\n",
       "        88.5518427 , 122.87575187, 169.12903634, 101.97650772,\n",
       "       282.75280809, 148.00612928, 164.73111978, 157.31651016,\n",
       "       232.69943194, 121.12075222,  95.66048311, 186.24657654,\n",
       "        87.52947663, 160.95896049, 242.3763008 , 149.13877387,\n",
       "       164.93049903, 209.27728194, 112.08505539, 130.02848231,\n",
       "        98.40717571,  43.04758443, 104.01721785, 227.29449724,\n",
       "       144.03768453, 111.74963631, 154.06279876, 174.11068281,\n",
       "        77.82721919])"
      ]
     },
     "execution_count": 13,
     "metadata": {},
     "output_type": "execute_result"
    }
   ],
   "source": [
    "y_pred"
   ]
  },
  {
   "cell_type": "code",
   "execution_count": 15,
   "id": "337aa1cf",
   "metadata": {},
   "outputs": [
    {
     "data": {
      "text/plain": [
       "array([155., 168., 115., 233., 190., 202.,  59., 101., 118., 244., 252.,\n",
       "       148., 232.,  72., 107.,  71., 191.,  65., 245.,  85., 185.,  84.,\n",
       "        78., 268., 248., 178., 196., 248., 144.,  83., 275.,  39., 113.,\n",
       "        64., 232., 200., 200., 122., 163., 180., 135., 164., 156., 126.,\n",
       "        68., 306.,  83.,  45.,  91.,  25., 270., 178., 108.,  86., 160.,\n",
       "       196., 248., 139., 155., 150.,  74.,  89., 216.,  65., 242., 136.,\n",
       "       185.,  91., 246.,  68., 101., 164., 113., 131., 215., 246., 265.,\n",
       "       220., 107., 131.,  94., 116.,  63., 217., 302.,  72., 252., 111.,\n",
       "        72.])"
      ]
     },
     "execution_count": 15,
     "metadata": {},
     "output_type": "execute_result"
    }
   ],
   "source": [
    "y_test #test(actual) me jo value aai and prediction ki value me 71 ka difference aarha h matlab erroe 71 aaya h"
   ]
  },
  {
   "cell_type": "code",
   "execution_count": 16,
   "id": "2d086990",
   "metadata": {},
   "outputs": [],
   "source": [
    "#alpha represents hyperparameter\n",
    "# using Ridge regression (using to decrease error)\n",
    "from sklearn.linear_model import Ridge\n",
    "R=Ridge(alpha=10000)"
   ]
  },
  {
   "cell_type": "code",
   "execution_count": 17,
   "id": "d5a9bd8b",
   "metadata": {},
   "outputs": [
    {
     "data": {
      "text/plain": [
       "Ridge(alpha=10000)"
      ]
     },
     "execution_count": 17,
     "metadata": {},
     "output_type": "execute_result"
    }
   ],
   "source": [
    "R.fit(x_train,y_train)"
   ]
  },
  {
   "cell_type": "code",
   "execution_count": 18,
   "id": "1a283846",
   "metadata": {},
   "outputs": [
    {
     "name": "stdout",
     "output_type": "stream",
     "text": [
      "Coefficient of Ridge: [ 0.02600397  0.00569999  0.07764433  0.06096285  0.02337539  0.0184614\n",
      " -0.05138155  0.05270009  0.07344351  0.05284829]\n",
      "Coefficient of Ridge: 151.8330423082936\n"
     ]
    }
   ],
   "source": [
    "print(\"Coefficient of Ridge:\",R.coef_)\n",
    "print(\"Coefficient of Ridge:\",R.intercept_)"
   ]
  },
  {
   "cell_type": "code",
   "execution_count": 19,
   "id": "81d30b24",
   "metadata": {},
   "outputs": [],
   "source": [
    "y_pred=R.predict(x_test)"
   ]
  },
  {
   "cell_type": "code",
   "execution_count": 20,
   "id": "247e71c4",
   "metadata": {},
   "outputs": [
    {
     "data": {
      "text/plain": [
       "array([151.85197188, 151.8429379 , 151.81507967, 151.84412493,\n",
       "       151.84449972, 151.83227731, 151.82854652, 151.81646729,\n",
       "       151.8189959 , 151.84533393, 151.85957264, 151.82407635,\n",
       "       151.84479979, 151.81442086, 151.84008027, 151.82531256,\n",
       "       151.82591892, 151.8344447 , 151.83772044, 151.83084748,\n",
       "       151.81911857, 151.83511177, 151.81506419, 151.86095287,\n",
       "       151.85992532, 151.82385133, 151.84780601, 151.84283731,\n",
       "       151.83937965, 151.81352427, 151.85173748, 151.81069109,\n",
       "       151.8316162 , 151.8238028 , 151.84736882, 151.83611424,\n",
       "       151.8304494 , 151.8440791 , 151.84969489, 151.8559457 ,\n",
       "       151.82644665, 151.84349812, 151.83239668, 151.83770527,\n",
       "       151.82130779, 151.86001799, 151.83026061, 151.81043135,\n",
       "       151.84141318, 151.82401721, 151.85684924, 151.82227742,\n",
       "       151.82702976, 151.82616021, 151.82145292, 151.83989229,\n",
       "       151.85918865, 151.85239412, 151.82918624, 151.81528409,\n",
       "       151.81238148, 151.84009698, 151.83175609, 151.81183422,\n",
       "       151.8694184 , 151.82160966, 151.83554532, 151.84261539,\n",
       "       151.84616464, 151.82039984, 151.81044282, 151.84352969,\n",
       "       151.81887604, 151.83921573, 151.85029942, 151.82949677,\n",
       "       151.83714288, 151.84014898, 151.83336029, 151.82163637,\n",
       "       151.82140217, 151.8122827 , 151.82140149, 151.86476132,\n",
       "       151.82752971, 151.82178193, 151.8313165 , 151.83983782,\n",
       "       151.81470572])"
      ]
     },
     "execution_count": 20,
     "metadata": {},
     "output_type": "execute_result"
    }
   ],
   "source": [
    "y_pred"
   ]
  },
  {
   "cell_type": "code",
   "execution_count": 21,
   "id": "d7c54674",
   "metadata": {},
   "outputs": [
    {
     "data": {
      "text/plain": [
       "array([155., 168., 115., 233., 190., 202.,  59., 101., 118., 244., 252.,\n",
       "       148., 232.,  72., 107.,  71., 191.,  65., 245.,  85., 185.,  84.,\n",
       "        78., 268., 248., 178., 196., 248., 144.,  83., 275.,  39., 113.,\n",
       "        64., 232., 200., 200., 122., 163., 180., 135., 164., 156., 126.,\n",
       "        68., 306.,  83.,  45.,  91.,  25., 270., 178., 108.,  86., 160.,\n",
       "       196., 248., 139., 155., 150.,  74.,  89., 216.,  65., 242., 136.,\n",
       "       185.,  91., 246.,  68., 101., 164., 113., 131., 215., 246., 265.,\n",
       "       220., 107., 131.,  94., 116.,  63., 217., 302.,  72., 252., 111.,\n",
       "        72.])"
      ]
     },
     "execution_count": 21,
     "metadata": {},
     "output_type": "execute_result"
    }
   ],
   "source": [
    "y_test"
   ]
  },
  {
   "cell_type": "code",
   "execution_count": 22,
   "id": "d37b942f",
   "metadata": {},
   "outputs": [
    {
     "name": "stdout",
     "output_type": "stream",
     "text": [
      "R2 score of Ridge Regularization(L2): -0.00018352571416735408\n",
      "RMSE of Ridge Regularization: 4935.215129559479\n"
     ]
    }
   ],
   "source": [
    "from sklearn.metrics import  r2_score,mean_squared_error\n",
    "print(\"R2 score of Ridge Regularization(L2):\",r2_score(y_test,y_pred))\n",
    "print(\"RMSE of Ridge Regularization:\",mean_squared_error(y_test,y_pred))"
   ]
  },
  {
   "cell_type": "code",
   "execution_count": 33,
   "id": "bada5c5a",
   "metadata": {},
   "outputs": [],
   "source": [
    "# m = 100\n",
    "x1 = 5 * np.random.rand(m,1) -2\n",
    "x2 = 0.7 * x1 ** 2-2 * x1 + 3 + np.random.randn(m,1) "
   ]
  },
  {
   "cell_type": "code",
   "execution_count": 34,
   "id": "04ddcafb",
   "metadata": {},
   "outputs": [
    {
     "data": {
      "text/plain": [
       "array([[-1.28106955],\n",
       "       [ 2.98879966],\n",
       "       [ 0.44874832],\n",
       "       [ 1.75716048],\n",
       "       [ 2.60659896],\n",
       "       [ 0.67571287],\n",
       "       [ 0.0481886 ],\n",
       "       [-1.69696246],\n",
       "       [ 0.24718823],\n",
       "       [ 2.3109274 ],\n",
       "       [ 0.48892619],\n",
       "       [ 0.53632218],\n",
       "       [ 1.77046049],\n",
       "       [-0.15562817],\n",
       "       [ 1.33864882],\n",
       "       [-0.117539  ],\n",
       "       [-0.02080907],\n",
       "       [ 2.92127446],\n",
       "       [ 2.8711313 ],\n",
       "       [-0.79537929],\n",
       "       [-1.14511599],\n",
       "       [ 1.36669457],\n",
       "       [-1.01199368],\n",
       "       [ 1.27980472],\n",
       "       [-0.04714444],\n",
       "       [ 2.8085887 ],\n",
       "       [ 0.34213015],\n",
       "       [ 0.23037208],\n",
       "       [ 1.72999295],\n",
       "       [ 2.88604359],\n",
       "       [-1.91925383],\n",
       "       [ 2.46513832],\n",
       "       [ 1.51340088],\n",
       "       [ 0.70712808],\n",
       "       [-0.92102319],\n",
       "       [-1.71574329],\n",
       "       [-1.68271437],\n",
       "       [-0.42017782],\n",
       "       [ 2.8515631 ],\n",
       "       [-0.18324677],\n",
       "       [-1.10595783],\n",
       "       [ 1.98045072],\n",
       "       [ 1.60930582],\n",
       "       [ 2.80293877],\n",
       "       [-0.9986458 ],\n",
       "       [ 0.95562061],\n",
       "       [ 1.89551898],\n",
       "       [-1.16697904],\n",
       "       [ 2.15240756],\n",
       "       [-0.43541558],\n",
       "       [ 1.01359352],\n",
       "       [-0.84738536],\n",
       "       [ 0.68700073],\n",
       "       [-0.76051273],\n",
       "       [-0.41517822],\n",
       "       [ 2.39288008],\n",
       "       [-1.02594051],\n",
       "       [-0.84893686],\n",
       "       [ 0.07637163],\n",
       "       [-1.19340279],\n",
       "       [-1.1652481 ],\n",
       "       [ 2.18699876],\n",
       "       [ 2.25437595],\n",
       "       [ 1.84311191],\n",
       "       [ 0.90519341],\n",
       "       [ 2.64025513],\n",
       "       [ 0.0414657 ],\n",
       "       [ 0.1125668 ],\n",
       "       [ 0.78784845],\n",
       "       [-1.88377657],\n",
       "       [-0.79177323],\n",
       "       [ 1.63029565],\n",
       "       [-1.01938628],\n",
       "       [ 2.2667822 ],\n",
       "       [-0.91302579],\n",
       "       [ 1.19520915],\n",
       "       [ 1.79921932],\n",
       "       [-1.63607163],\n",
       "       [-0.54774364],\n",
       "       [-1.36230884],\n",
       "       [-1.99297782],\n",
       "       [-1.38276464],\n",
       "       [ 0.36324763],\n",
       "       [-0.29530536],\n",
       "       [ 2.54027163],\n",
       "       [ 0.21791206],\n",
       "       [-1.8486039 ],\n",
       "       [ 0.05393588],\n",
       "       [ 1.01439448],\n",
       "       [-1.45131953],\n",
       "       [ 1.76913681],\n",
       "       [ 0.93717986],\n",
       "       [ 2.43169619],\n",
       "       [-0.50365776],\n",
       "       [ 1.86177302],\n",
       "       [ 1.0543541 ],\n",
       "       [-1.21166208],\n",
       "       [ 0.95584108],\n",
       "       [ 0.63002836],\n",
       "       [-1.77913296]])"
      ]
     },
     "execution_count": 34,
     "metadata": {},
     "output_type": "execute_result"
    }
   ],
   "source": [
    "x1"
   ]
  },
  {
   "cell_type": "code",
   "execution_count": 35,
   "id": "70e57cdb",
   "metadata": {},
   "outputs": [
    {
     "data": {
      "text/plain": [
       "array([[ 7.74959448e+00],\n",
       "       [ 5.01203243e+00],\n",
       "       [ 1.51735346e+00],\n",
       "       [-2.09889222e-01],\n",
       "       [ 1.79888610e+00],\n",
       "       [ 2.45787558e+00],\n",
       "       [ 1.73238953e+00],\n",
       "       [ 7.22066176e+00],\n",
       "       [ 3.44834486e+00],\n",
       "       [ 1.91143841e+00],\n",
       "       [ 4.87627529e+00],\n",
       "       [ 4.13871593e+00],\n",
       "       [ 1.73312184e+00],\n",
       "       [ 3.63128753e+00],\n",
       "       [ 1.37175638e+00],\n",
       "       [ 2.88045403e+00],\n",
       "       [ 4.97643761e+00],\n",
       "       [ 4.35077502e+00],\n",
       "       [ 2.43545951e+00],\n",
       "       [ 4.93420469e+00],\n",
       "       [ 5.11031544e+00],\n",
       "       [ 1.60469655e+00],\n",
       "       [ 4.48548855e+00],\n",
       "       [ 1.62033964e-01],\n",
       "       [ 1.95505745e+00],\n",
       "       [ 3.23295057e+00],\n",
       "       [ 2.08892347e+00],\n",
       "       [ 1.92346366e+00],\n",
       "       [ 1.33815798e+00],\n",
       "       [ 1.50766165e+00],\n",
       "       [ 1.05274783e+01],\n",
       "       [ 1.71499657e+00],\n",
       "       [ 2.65265663e+00],\n",
       "       [ 2.04176592e+00],\n",
       "       [ 5.46946742e+00],\n",
       "       [ 7.13342952e+00],\n",
       "       [ 6.42469872e+00],\n",
       "       [ 3.93689196e+00],\n",
       "       [ 2.74798831e+00],\n",
       "       [ 5.48192501e+00],\n",
       "       [ 6.27600669e+00],\n",
       "       [ 2.24218084e+00],\n",
       "       [ 2.10811263e+00],\n",
       "       [ 2.60083404e+00],\n",
       "       [ 5.41383504e+00],\n",
       "       [ 2.07695770e+00],\n",
       "       [ 1.53605121e+00],\n",
       "       [ 8.17028827e+00],\n",
       "       [ 1.91145082e+00],\n",
       "       [ 4.62312832e+00],\n",
       "       [ 1.35935346e+00],\n",
       "       [ 4.56312991e+00],\n",
       "       [ 7.09670458e-01],\n",
       "       [ 4.46347227e+00],\n",
       "       [ 5.74967247e+00],\n",
       "       [ 1.19277787e+00],\n",
       "       [ 8.20641397e+00],\n",
       "       [ 5.34011660e+00],\n",
       "       [ 4.92775456e+00],\n",
       "       [ 5.32845776e+00],\n",
       "       [ 5.23969830e+00],\n",
       "       [ 3.08289390e+00],\n",
       "       [ 3.33384605e+00],\n",
       "       [ 1.51523693e+00],\n",
       "       [ 1.14255406e+00],\n",
       "       [ 3.51562987e+00],\n",
       "       [ 4.26884473e+00],\n",
       "       [ 4.10617793e+00],\n",
       "       [ 1.71443483e+00],\n",
       "       [ 9.78522522e+00],\n",
       "       [ 5.06477006e+00],\n",
       "       [ 2.75710689e+00],\n",
       "       [ 4.43640890e+00],\n",
       "       [ 3.11032287e+00],\n",
       "       [ 6.05736540e+00],\n",
       "       [ 5.15649974e-03],\n",
       "       [ 8.04053657e-01],\n",
       "       [ 8.05400799e+00],\n",
       "       [ 4.00255855e+00],\n",
       "       [ 6.77480831e+00],\n",
       "       [ 9.42478262e+00],\n",
       "       [ 6.65841104e+00],\n",
       "       [ 3.01408555e+00],\n",
       "       [ 3.90897586e+00],\n",
       "       [ 2.01597841e+00],\n",
       "       [ 3.01067897e+00],\n",
       "       [ 8.39317313e+00],\n",
       "       [ 2.60076436e+00],\n",
       "       [ 3.44042242e+00],\n",
       "       [ 8.92222734e+00],\n",
       "       [ 1.04110415e+00],\n",
       "       [ 3.04797589e+00],\n",
       "       [ 2.12152878e+00],\n",
       "       [ 5.37306169e+00],\n",
       "       [ 1.15188671e+00],\n",
       "       [ 1.73032781e+00],\n",
       "       [ 7.13337455e+00],\n",
       "       [ 2.67966184e+00],\n",
       "       [ 3.60070647e+00],\n",
       "       [ 9.58576101e+00]])"
      ]
     },
     "execution_count": 35,
     "metadata": {},
     "output_type": "execute_result"
    }
   ],
   "source": [
    "x2"
   ]
  },
  {
   "cell_type": "code",
   "execution_count": 36,
   "id": "6cbbdb28",
   "metadata": {},
   "outputs": [
    {
     "data": {
      "image/png": "[encoded data removed]",
      "text/plain": [
       "<Figure size 432x288 with 1 Axes>"
      ]
     },
     "metadata": {
      "needs_background": "light"
     },
     "output_type": "display_data"
    }
   ],
   "source": [
    "plt.scatter(x1,x2)\n",
    "plt.show()"
   ]
  },
  {
   "cell_type": "code",
   "execution_count": 51,
   "id": "08512e3a",
   "metadata": {},
   "outputs": [],
   "source": [
    "#using polynomail feature to tilt the line\n",
    "# pipeline represents connectivity\n",
    "\n",
    "from sklearn.pipeline import Pipeline\n",
    "from sklearn.preprocessing import PolynomialFeatures\n",
    "\n",
    "def get_preds_Ridge(x1,x2,alpha):\n",
    "    model=Pipeline([('poy_features',\n",
    "                     PolynomialFeatures(degree=16)),  # degree 16 q ki ye total hyperparameter h\n",
    "                     ('ridge',Ridge(alpha=alpha)\n",
    "                     )]) \n",
    "    model.fit(x1,x2)\n",
    "    return model.predict(x1)\n"
   ]
  },
  {
   "cell_type": "code",
   "execution_count": 52,
   "id": "3392ad80",
   "metadata": {},
   "outputs": [
    {
     "data": {
      "text/plain": [
       "<matplotlib.legend.Legend at 0x152fc49f250>"
      ]
     },
     "execution_count": 52,
     "metadata": {},
     "output_type": "execute_result"
    },
    {
     "data": {
      "image/png": "[encoded data removed]",
      "text/plain": [
       "<Figure size 720x432 with 1 Axes>"
      ]
     },
     "metadata": {
      "needs_background": "light"
     },
     "output_type": "display_data"
    }
   ],
   "source": [
    "alphas=[0,20,200]\n",
    "cs=['r','g','b']\n",
    "\n",
    "plt.figure(figsize=(10,6))\n",
    "plt.plot(x1,x2,'b+',label='Datapoints')\n",
    "\n",
    "\n",
    "for alpha,c in zip(alphas,cs):\n",
    "    pred=get_preds_Ridge(x1,x2,alpha)\n",
    "    #plot\n",
    "    plt.plot(sorted(x1[:,0]),pred[np.argsort(x1[:,0])],c,label='Alpha: {}'.format(alpha))\n",
    "    \n",
    "plt.legend()\n"
   ]
  },
  {
   "cell_type": "code",
   "execution_count": null,
   "id": "c6df0f40",
   "metadata": {},
   "outputs": [],
   "source": []
  },
  {
   "cell_type": "code",
   "execution_count": null,
   "id": "1cb3f68e",
   "metadata": {},
   "outputs": [],
   "source": []
  },
  {
   "cell_type": "code",
   "execution_count": null,
   "id": "7017a242",
   "metadata": {},
   "outputs": [],
   "source": []
  }
 ],
 "metadata": {
  "kernelspec": {
   "display_name": "Python 3 (ipykernel)",
   "language": "python",
   "name": "python3"
  },
  "language_info": {
   "codemirror_mode": {
    "name": "ipython",
    "version": 3
   },
   "file_extension": ".py",
   "mimetype": "text/x-python",
   "name": "python",
   "nbconvert_exporter": "python",
   "pygments_lexer": "ipython3",
   "version": "3.9.12"
  }
 },
 "nbformat": 4,
 "nbformat_minor": 5
}
