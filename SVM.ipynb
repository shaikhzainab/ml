{
 "cells": [
  {
   "cell_type": "code",
   "execution_count": 1,
   "id": "ac3ae30a",
   "metadata": {},
   "outputs": [],
   "source": [
    "# Import Libraries\n",
    "import numpy as np\n",
    "import matplotlib.pyplot as plt\n",
    "import scipy as stats\n",
    "import seaborn as sns"
   ]
  },
  {
   "cell_type": "code",
   "execution_count": 2,
   "id": "af8c834a",
   "metadata": {},
   "outputs": [],
   "source": [
    "# creating toy data\n",
    "from sklearn.datasets import make_blobs"
   ]
  },
  {
   "cell_type": "code",
   "execution_count": 3,
   "id": "ce4510cd",
   "metadata": {},
   "outputs": [],
   "source": [
    "x,y=make_blobs(n_samples=50,centers=2,random_state=0,cluster_std=0.60)"
   ]
  },
  {
   "cell_type": "code",
   "execution_count": 4,
   "id": "1149a3ac",
   "metadata": {},
   "outputs": [
    {
     "data": {
      "text/plain": [
       "array([1, 1, 0, 0, 1, 1, 1, 1, 1, 0, 0, 0, 0, 1, 0, 0, 0, 1, 0, 0, 1, 1,\n",
       "       1, 1, 1, 0, 0, 0, 1, 0, 1, 0, 0, 0, 0, 1, 1, 0, 1, 0, 1, 0, 1, 1,\n",
       "       0, 1, 1, 0, 1, 0])"
      ]
     },
     "execution_count": 4,
     "metadata": {},
     "output_type": "execute_result"
    }
   ],
   "source": [
    "y"
   ]
  },
  {
   "cell_type": "code",
   "execution_count": null,
   "id": "ab65043e",
   "metadata": {},
   "outputs": [],
   "source": [
    "# having 2 x and y is classification data"
   ]
  },
  {
   "cell_type": "code",
   "execution_count": 8,
   "id": "f15bb006",
   "metadata": {},
   "outputs": [
    {
     "data": {
      "text/plain": [
       "<matplotlib.collections.PathCollection at 0x135ef37a5e0>"
      ]
     },
     "execution_count": 8,
     "metadata": {},
     "output_type": "execute_result"
    },
    {
     "data": {
      "image/png": "[encoded data removed]",
      "text/plain": [
       "<Figure size 432x288 with 1 Axes>"
      ]
     },
     "metadata": {
      "needs_background": "light"
     },
     "output_type": "display_data"
    }
   ],
   "source": [
    "#scatter plot\n",
    "plt.scatter(x[:,0],x[:,1],c=y,cmap='winter')"
   ]
  },
  {
   "cell_type": "code",
   "execution_count": null,
   "id": "5d1467e2",
   "metadata": {},
   "outputs": [],
   "source": [
    "# hame aesa dataset chahiye tha jo linearly classify hoe isliye hum aese generate kr rhe h"
   ]
  },
  {
   "cell_type": "code",
   "execution_count": 10,
   "id": "adfd132d",
   "metadata": {},
   "outputs": [],
   "source": [
    "#SVM ka object banana h\n",
    "\n",
    "from sklearn.svm import SVC  #SVC for classifier and SVM for regressor\n"
   ]
  },
  {
   "cell_type": "code",
   "execution_count": 16,
   "id": "625cc36b",
   "metadata": {},
   "outputs": [],
   "source": [
    "model=SVC(kernel='linear') # agr kernel nhi specify kiye to vo non linear lega "
   ]
  },
  {
   "cell_type": "code",
   "execution_count": 17,
   "id": "86eec9b3",
   "metadata": {},
   "outputs": [
    {
     "data": {
      "text/plain": [
       "SVC(kernel='linear')"
      ]
     },
     "execution_count": 17,
     "metadata": {},
     "output_type": "execute_result"
    }
   ],
   "source": [
    "model.fit(x,y)"
   ]
  },
  {
   "cell_type": "code",
   "execution_count": 18,
   "id": "423fe68a",
   "metadata": {},
   "outputs": [
    {
     "data": {
      "text/plain": [
       "array([[0.44359863, 3.11530945],\n",
       "       [2.33812285, 3.43116792],\n",
       "       [2.06156753, 1.96918596]])"
      ]
     },
     "execution_count": 18,
     "metadata": {},
     "output_type": "execute_result"
    }
   ],
   "source": [
    "#lets see Supoort vectors\n",
    "model.support_vectors_ # iska output dekhenge aage scatter plot me (ye vo vlaue h jo support vector cross karega)"
   ]
  },
  {
   "cell_type": "code",
   "execution_count": 19,
   "id": "67f60f93",
   "metadata": {},
   "outputs": [],
   "source": [
    "# function to plot hyperplan \n",
    "#Plot hyperplane: \n",
    "\n",
    "def plot_svc_decision_function(model, ax=None, plot_support=True):\n",
    "    \"\"\"Plot the decision function for a 2D SVC\"\"\"\n",
    "    if ax is None:\n",
    "        ax = plt.gca()\n",
    "    xlim = ax.get_xlim()\n",
    "    ylim = ax.get_ylim()\n",
    "   \n",
    "    # create grid to evaluate model\n",
    "    x = np.linspace(xlim[0], xlim[1], 30)\n",
    "    y = np.linspace(ylim[0], ylim[1], 30)\n",
    "    Y, X = np.meshgrid(y, x)\n",
    "    xy = np.vstack([X.ravel(), Y.ravel()]).T\n",
    "    P = model.decision_function(xy).reshape(X.shape)\n",
    "   \n",
    "    # plot decision boundary and margins\n",
    "    ax.contour(X, Y, P, colors='k',\n",
    "               levels=[-1, 0, 1], alpha=0.5,\n",
    "               linestyles=['--', '-', '--'])\n",
    "   \n",
    "    # plot support vectors\n",
    "    if plot_support:\n",
    "        ax.scatter(model.support_vectors_[:, 0],\n",
    "                   model.support_vectors_[:, 1],\n",
    "                   s=300, linewidth=1, facecolors='none');\n",
    "    ax.set_xlim(xlim)\n",
    "    ax.set_ylim(ylim)"
   ]
  },
  {
   "cell_type": "code",
   "execution_count": 20,
   "id": "7f1c6a7c",
   "metadata": {},
   "outputs": [
    {
     "data": {
      "image/png": "[encoded data removed]",
      "text/plain": [
       "<Figure size 432x288 with 1 Axes>"
      ]
     },
     "metadata": {
      "needs_background": "light"
     },
     "output_type": "display_data"
    }
   ],
   "source": [
    "plt.scatter(x[:,0],x[:,1])\n",
    "plot_svc_decision_function(model)"
   ]
  },
  {
   "cell_type": "code",
   "execution_count": null,
   "id": "9823c0d8",
   "metadata": {},
   "outputs": [],
   "source": [
    "# total 3 line pe cross kr rha h jo ki hamara support vector h\n",
    "# array([[0.44359863, 3.11530945],\n",
    "      # [2.33812285, 3.43116792],\n",
    "      # [2.06156753, 1.96918596]])"
   ]
  }
 ],
 "metadata": {
  "kernelspec": {
   "display_name": "Python 3 (ipykernel)",
   "language": "python",
   "name": "python3"
  },
  "language_info": {
   "codemirror_mode": {
    "name": "ipython",
    "version": 3
   },
   "file_extension": ".py",
   "mimetype": "text/x-python",
   "name": "python",
   "nbconvert_exporter": "python",
   "pygments_lexer": "ipython3",
   "version": "3.9.12"
  }
 },
 "nbformat": 4,
 "nbformat_minor": 5
}
